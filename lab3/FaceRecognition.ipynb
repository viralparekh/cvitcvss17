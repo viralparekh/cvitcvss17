{
 "cells": [
  {
   "cell_type": "code",
   "execution_count": 1,
   "metadata": {
    "collapsed": true
   },
   "outputs": [],
   "source": [
    "import math"
   ]
  },
  {
   "cell_type": "code",
   "execution_count": 2,
   "metadata": {
    "collapsed": true
   },
   "outputs": [],
   "source": [
    "import cv2\n",
    "import numpy as np"
   ]
  },
  {
   "cell_type": "code",
   "execution_count": 14,
   "metadata": {
    "collapsed": true
   },
   "outputs": [],
   "source": [
    "import torch\n",
    "from torch.utils.serialization import load_lua\n",
    "from torch.legacy import nn"
   ]
  },
  {
   "cell_type": "code",
   "execution_count": 4,
   "metadata": {
    "collapsed": true
   },
   "outputs": [],
   "source": [
    "def getNameList(filePath):\n",
    "    names = []\n",
    "    with open(filePath) as f:\n",
    "        names = [ line.strip() for line in f ]\n",
    "    return names"
   ]
  },
  {
   "cell_type": "code",
   "execution_count": 5,
   "metadata": {
    "collapsed": true
   },
   "outputs": [],
   "source": [
    "inputImg = cv2.imread(\"datasets/Experiment_1/Aamir_Khan.png\")"
   ]
  },
  {
   "cell_type": "code",
   "execution_count": 6,
   "metadata": {
    "collapsed": true
   },
   "outputs": [],
   "source": [
    "# re-scale the smaller dim (among width, height) to refSize\n",
    "\n",
    "refSize, targetSize = 256, 224\n",
    "imgRows, imgCols = inputImg.shape[0], inputImg.shape[1]\n",
    "if imgCols < imgRows: resizedImg = cv2.resize(inputImg, (refSize, refSize * imgRows / imgCols))\n",
    "else: resizedImg = cv2.resize(inputImg, (refSize * imgCols / imgRows, refSize))"
   ]
  },
  {
   "cell_type": "code",
   "execution_count": 7,
   "metadata": {
    "collapsed": true
   },
   "outputs": [],
   "source": [
    "# center-crop\n",
    "\n",
    "oH, oW = targetSize, targetSize\n",
    "iH, iW = resizedImg.shape[0], resizedImg.shape[1]\n",
    "anchorH, anchorW = int(math.ceil((iH - oH)/2)), int(math.ceil((iW - oW) / 2))\n",
    "croppedImg = resizedImg[anchorH:anchorH+oH, anchorW:anchorW+oW]"
   ]
  },
  {
   "cell_type": "code",
   "execution_count": 8,
   "metadata": {
    "collapsed": true
   },
   "outputs": [],
   "source": [
    "# convert shape from (height, width, 3) to (3, width, height)\n",
    "\n",
    "channel_1, channel_2, channel_3 = croppedImg[:, :, 0], croppedImg[:, :, 1], croppedImg[:, :, 2]\n",
    "croppedImg = np.empty([3, croppedImg.shape[0], croppedImg.shape[1]])\n",
    "croppedImg[0], croppedImg[1], croppedImg[2] = channel_1, channel_2, channel_3"
   ]
  },
  {
   "cell_type": "code",
   "execution_count": 9,
   "metadata": {
    "collapsed": true
   },
   "outputs": [],
   "source": [
    "# subtract training mean\n",
    "\n",
    "inputImg = inputImg.astype(float)\n",
    "trainingMean = [129.1863, 104.7624, 93.5940]\n",
    "for i in range(3): croppedImg[i] = croppedImg[i] - trainingMean[i]"
   ]
  },
  {
   "cell_type": "code",
   "execution_count": 10,
   "metadata": {
    "collapsed": true
   },
   "outputs": [],
   "source": [
    "# load pre-trained VGG-Face network and list of IDs\n",
    "\n",
    "vggFace = load_lua(\"preTrainedNets/VGG_FACE_pyTorch_small.t7\")\n",
    "vggFace.modules[31] = nn.View(1, 25088)\n",
    "idNames = getNameList(\"preTrainedNets/names.txt\")"
   ]
  },
  {
   "cell_type": "code",
   "execution_count": 11,
   "metadata": {
    "collapsed": true
   },
   "outputs": [],
   "source": [
    "# forward pass\n",
    "\n",
    "input = torch.Tensor(croppedImg).unsqueeze(0)\n",
    "output = vggFace.forward(input)\n",
    "output = output.numpy()"
   ]
  },
  {
   "cell_type": "code",
   "execution_count": 12,
   "metadata": {
    "collapsed": false
   },
   "outputs": [
    {
     "name": "stdout",
     "output_type": "stream",
     "text": [
      "ID =  Aamir_Khan\n"
     ]
    }
   ],
   "source": [
    "print \"ID = \", idNames[np.argmax(output)]"
   ]
  },
  {
   "cell_type": "code",
   "execution_count": 15,
   "metadata": {
    "collapsed": false
   },
   "outputs": [
    {
     "name": "stdout",
     "output_type": "stream",
     "text": [
      "Aamir_Khan\n",
      "Manish_Dayal\n",
      "Adam_Driver\n",
      "John_Abraham\n",
      "Adam_Copeland\n"
     ]
    }
   ],
   "source": [
    "# top-k predictions\n",
    "\n",
    "ind = output[0].argsort()[-5:][::-1]\n",
    "for idx in ind:\n",
    "    print idNames[idx]"
   ]
  },
  {
   "cell_type": "code",
   "execution_count": null,
   "metadata": {
    "collapsed": true
   },
   "outputs": [],
   "source": []
  }
 ],
 "metadata": {
  "kernelspec": {
   "display_name": "Python 2",
   "language": "python",
   "name": "python2"
  },
  "language_info": {
   "codemirror_mode": {
    "name": "ipython",
    "version": 2
   },
   "file_extension": ".py",
   "mimetype": "text/x-python",
   "name": "python",
   "nbconvert_exporter": "python",
   "pygments_lexer": "ipython2",
   "version": "2.7.12"
  }
 },
 "nbformat": 4,
 "nbformat_minor": 1
}
