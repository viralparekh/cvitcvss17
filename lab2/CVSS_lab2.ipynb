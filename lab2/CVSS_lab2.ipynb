{
 "cells": [
  {
   "cell_type": "markdown",
   "metadata": {},
   "source": [
    "# Lab 2: Generative Adversarial Networks\n",
    "\n",
    "## 2. InfoGAN\n",
    "\n",
    "In this lab, we will look at a variant of GAN called InfoGAN.\n",
    "\n",
    "Let us load a pretrained model of InfoGAN that has been trained on MNIST dataset. We are loading only the generator.\n"
   ]
  },
  {
   "cell_type": "markdown",
   "metadata": {},
   "source": [
    "Here, we define some functions to help us generate noise as input to the generator."
   ]
  },
  {
   "cell_type": "code",
   "execution_count": 6,
   "metadata": {},
   "outputs": [
    {
     "name": "stdout",
     "output_type": "stream",
     "text": [
      "InfoGAN_Generator (\n",
      "  (fc_in): Linear (22 -> 2048)\n",
      "  (convs): ModuleList (\n",
      "    (0): ConvTranspose2d(32, 1, kernel_size=(6, 6), stride=(2, 2), padding=(2, 2))\n",
      "    (1): ConvTranspose2d(64, 32, kernel_size=(6, 6), stride=(2, 2), padding=(2, 2))\n",
      "    (2): ConvTranspose2d(128, 64, kernel_size=(5, 5), stride=(2, 2), padding=(2, 2))\n",
      "  )\n",
      "  (BNs): ModuleList (\n",
      "    (0): BatchNorm2d(32, eps=1e-05, momentum=0.1, affine=True)\n",
      "    (1): BatchNorm2d(64, eps=1e-05, momentum=0.1, affine=True)\n",
      "  )\n",
      ")\n"
     ]
    }
   ],
   "source": [
    "import torch\n",
    "import torch.nn as nn\n",
    "import torch.nn.functional as F\n",
    "from InfoGAN import InfoGAN_Generator\n",
    "\n",
    "model = torch.load('InfoGAN_Gen_cpu.pt')\n",
    "print(model)\n"
   ]
  },
  {
   "cell_type": "code",
   "execution_count": 7,
   "metadata": {},
   "outputs": [],
   "source": [
    "def gen_noise(n_instance, n_dim=2):\n",
    "    \"\"\"generate n-dim uniform random noise\"\"\"\n",
    "    return torch.Tensor(np.random.uniform(low=-1.0, high=1.0,\n",
    "                                          size=(n_instance, n_dim)))\n",
    "\n",
    "\n",
    "def gen_conti_codes(n_instance, n_conti, mean=0, std=1):\n",
    "    \"\"\"generate gaussian continuous codes with specified mean and std\"\"\"\n",
    "    codes = np.random.randn(n_instance, n_conti) * std + mean\n",
    "    return torch.Tensor(codes)\n",
    "\n",
    "\n",
    "def gen_discrete_code(n_instance, n_discrete, num_category=10):\n",
    "    \"\"\"generate discrete codes with n categories\"\"\"\n",
    "    codes = []\n",
    "    for i in range(n_discrete):\n",
    "        code = np.zeros((n_instance, num_category))\n",
    "        random_cate = np.random.randint(0, num_category, n_instance)\n",
    "        code[range(n_instance), random_cate] = 1\n",
    "        codes.append(code)\n",
    "\n",
    "    codes = np.concatenate(codes, 1)\n",
    "    return torch.Tensor(codes)"
   ]
  },
  {
   "cell_type": "markdown",
   "metadata": {},
   "source": [
    "Let us generate some random noise vector and see the generated images. "
   ]
  },
  {
   "cell_type": "code",
   "execution_count": 8,
   "metadata": {},
   "outputs": [],
   "source": [
    "from torch.autograd import Variable\n",
    "import numpy as np\n",
    "batch_size = 64\n",
    "noise_dim = 10 # size of the entangled noise vector\n",
    "n_conti=2 # number of latent variables controlling the continuous property\n",
    "n_discrete=1 # number of latent variables controlling the discrete property (class label of generated image)\n",
    "\n",
    "num_category=10\n",
    "noises = Variable(gen_noise(batch_size, n_dim=noise_dim))\n",
    "conti_codes = Variable(gen_conti_codes(batch_size, n_conti,\n",
    "                                                   0.0, 0.5))\n",
    "discr_codes = Variable(gen_discrete_code(batch_size, n_discrete,\n",
    "                                                     num_category))"
   ]
  },
  {
   "cell_type": "markdown",
   "metadata": {},
   "source": [
    "We see that the final noise vector is a concatenation of the entangled noise vector, and the latent codes that we trained. \n",
    "\n",
    "Let us pass the noise vector through the generator to see the output."
   ]
  },
  {
   "cell_type": "code",
   "execution_count": 9,
   "metadata": {},
   "outputs": [
    {
     "ename": "ImportError",
     "evalue": "No module named matplotlib.pyplot",
     "output_type": "error",
     "traceback": [
      "\u001b[0;31m---------------------------------------------------------------------------\u001b[0m",
      "\u001b[0;31mImportError\u001b[0m                               Traceback (most recent call last)",
      "\u001b[0;32m<ipython-input-9-c8d22d785faa>\u001b[0m in \u001b[0;36m<module>\u001b[0;34m()\u001b[0m\n\u001b[1;32m      3\u001b[0m \u001b[0;34m\u001b[0m\u001b[0m\n\u001b[1;32m      4\u001b[0m \u001b[0;32mimport\u001b[0m \u001b[0mtorchvision\u001b[0m\u001b[0;34m\u001b[0m\u001b[0m\n\u001b[0;32m----> 5\u001b[0;31m \u001b[0;32mimport\u001b[0m \u001b[0mmatplotlib\u001b[0m\u001b[0;34m.\u001b[0m\u001b[0mpyplot\u001b[0m \u001b[0;32mas\u001b[0m \u001b[0mplt\u001b[0m\u001b[0;34m\u001b[0m\u001b[0m\n\u001b[0m\u001b[1;32m      6\u001b[0m \u001b[0mget_ipython\u001b[0m\u001b[0;34m(\u001b[0m\u001b[0;34m)\u001b[0m\u001b[0;34m.\u001b[0m\u001b[0mmagic\u001b[0m\u001b[0;34m(\u001b[0m\u001b[0;34mu'matplotlib inline'\u001b[0m\u001b[0;34m)\u001b[0m\u001b[0;34m\u001b[0m\u001b[0m\n\u001b[1;32m      7\u001b[0m \u001b[0moutput\u001b[0m \u001b[0;34m=\u001b[0m \u001b[0mfake_inputs\u001b[0m\u001b[0;34m.\u001b[0m\u001b[0mdata\u001b[0m\u001b[0;34m\u001b[0m\u001b[0m\n",
      "\u001b[0;31mImportError\u001b[0m: No module named matplotlib.pyplot"
     ]
    }
   ],
   "source": [
    "gen_inputs = torch.cat((noises, conti_codes, discr_codes), 1)\n",
    "fake_inputs = model(gen_inputs)\n",
    "\n",
    "import torchvision\n",
    "import matplotlib.pyplot as plt\n",
    "%matplotlib inline\n",
    "output = fake_inputs.data\n",
    "output = torchvision.utils.make_grid(output)\n",
    "output = output.permute(1,2,0)\n",
    "plt.imshow(output.numpy())"
   ]
  },
  {
   "cell_type": "markdown",
   "metadata": {},
   "source": [
    "### Meaning of the discrete codes\n",
    "\n",
    "Now, let us see what the discrete codes mean. We will initialize them in a systematic manner."
   ]
  },
  {
   "cell_type": "code",
   "execution_count": 6,
   "metadata": {},
   "outputs": [
    {
     "name": "stdout",
     "output_type": "stream",
     "text": [
      "_netD (\n",
      "  (main): Sequential (\n",
      "    (0): Conv2d(1, 64, kernel_size=(4, 4), stride=(2, 2), padding=(1, 1), bias=False)\n",
      "    (1): LeakyReLU (0.2, inplace)\n",
      "    (2): Conv2d(64, 128, kernel_size=(4, 4), stride=(2, 2), padding=(1, 1), bias=False)\n",
      "    (3): BatchNorm2d(128, eps=1e-05, momentum=0.1, affine=True)\n",
      "    (4): LeakyReLU (0.2, inplace)\n",
      "    (5): Conv2d(128, 256, kernel_size=(4, 4), stride=(2, 2), padding=(1, 1), bias=False)\n",
      "    (6): BatchNorm2d(256, eps=1e-05, momentum=0.1, affine=True)\n",
      "    (7): LeakyReLU (0.2, inplace)\n",
      "    (8): Conv2d(256, 512, kernel_size=(4, 4), stride=(2, 2), padding=(1, 1), bias=False)\n",
      "    (9): BatchNorm2d(512, eps=1e-05, momentum=0.1, affine=True)\n",
      "    (10): LeakyReLU (0.2, inplace)\n",
      "    (11): Conv2d(512, 1, kernel_size=(4, 4), stride=(1, 1), bias=False)\n",
      "    (12): Sigmoid ()\n",
      "  )\n",
      ")\n"
     ]
    }
   ],
   "source": [
    "discr_codes = Variable(torch.eye(10))\n",
    "discr_codes = discr_codes[0:8,:]\n",
    "discr_codes = discr_codes.repeat(8,1)\n",
    "print(discr_codes.size())"
   ]
  },
  {
   "cell_type": "markdown",
   "metadata": {},
   "source": [
    "Now, run the previous step to see the images generated.\n",
    "\n",
    "### Meaning of the continuous codes\n",
    "\n",
    "Let us see what the continuous codes mean. In this model, two continuous latent variables are used. We will vary them both and see the result."
   ]
  },
  {
   "cell_type": "code",
   "execution_count": null,
   "metadata": {
    "collapsed": true
   },
   "outputs": [],
   "source": []
  }
 ],
 "metadata": {
  "kernelspec": {
   "display_name": "Python 2",
   "language": "python",
   "name": "python2"
  },
  "language_info": {
   "codemirror_mode": {
    "name": "ipython",
    "version": 2
   },
   "file_extension": ".py",
   "mimetype": "text/x-python",
   "name": "python",
   "nbconvert_exporter": "python",
   "pygments_lexer": "ipython2",
   "version": "2.7.6"
  }
 },
 "nbformat": 4,
 "nbformat_minor": 1
}
