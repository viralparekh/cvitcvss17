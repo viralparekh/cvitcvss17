{
 "cells": [
  {
   "cell_type": "code",
   "execution_count": 1,
   "metadata": {
    "collapsed": true
   },
   "outputs": [],
   "source": [
    "# Import all libraries\n",
    "import os\n",
    "import numpy as np\n",
    "from skimage import io, transform\n",
    "import torch\n",
    "import torch.utils.data\n",
    "import torch.nn as nn\n",
    "import torch.optim as optim\n",
    "import torch.nn.functional as F\n",
    "from torch.autograd import Variable\n",
    "from torchvision import datasets, transforms\n",
    "import random\n",
    "import matplotlib.pyplot as plt\n",
    "# To be removed in the final version. Right now facing gpu memory problem\n",
    "os.environ[\"CUDA_DEVICE_ORDER\"]=\"PCI_BUS_ID\"   # see issue #152\n",
    "os.environ[\"CUDA_VISIBLE_DEVICES\"]=\"0\"\n",
    "# Ignore warnings\n",
    "import warnings\n",
    "warnings.filterwarnings(\"ignore\")\n",
    "\n",
    "plt.ion()   # interactive mode\n"
   ]
  },
  {
   "cell_type": "code",
   "execution_count": 2,
   "metadata": {
    "collapsed": true
   },
   "outputs": [],
   "source": [
    "def show_samples(image, digit_1, digit_2, digit_3):\n",
    "    plt.imshow(image, cmap = 'gray')\n",
    "    plt.pause(0.001)  # pause a bit so that plots are updated"
   ]
  },
  {
   "cell_type": "code",
   "execution_count": 3,
   "metadata": {},
   "outputs": [],
   "source": [
    "class Rescale(object):\n",
    "    \"\"\"Rescale the image in a sample to a given size.\n",
    "\n",
    "    Args:\n",
    "        output_size (tuple or tuple): Desired output size. If tuple, output is\n",
    "            matched to output_size. If int, smaller of image edges is matched\n",
    "            to output_size keeping aspect ratio the same.\n",
    "    \"\"\"\n",
    "\n",
    "    def __init__(self, output_size):\n",
    "        assert isinstance(output_size, (int, tuple))\n",
    "        self.output_size = output_size\n",
    "\n",
    "    def __call__(self, sample):\n",
    "        image, digit_1, digit_2, digit_3 = sample['image'], sample['digit_1'], sample['digit_2'], sample['digit_3']\n",
    "\n",
    "        h, w = image.shape\n",
    "        if isinstance(self.output_size, int):\n",
    "            if h > w:\n",
    "                new_h, new_w = self.output_size * h / w, self.output_size\n",
    "            else:\n",
    "                new_h, new_w = self.output_size, self.output_size * w / h\n",
    "        else:\n",
    "            new_h, new_w = self.output_size\n",
    "\n",
    "        new_h, new_w = int(new_h), int(new_w)\n",
    "\n",
    "        img = transform.resize(image, (new_h, new_w))\n",
    "\n",
    "        return {'image': img, 'digit_1': digit_1, 'digit_2': digit_2, 'digit_3': digit_3}\n",
    "\n",
    "\n",
    "class RandomCrop(object):\n",
    "    \"\"\"Crop randomly the image in a sample.\n",
    "\n",
    "    Args:\n",
    "        output_size (tuple or int): Desired output size. If int, square crop\n",
    "            is made.\n",
    "    \"\"\"\n",
    "\n",
    "    def __init__(self, output_size):\n",
    "        assert isinstance(output_size, (int, tuple))\n",
    "        if isinstance(output_size, int):\n",
    "            self.output_size = (output_size, output_size)\n",
    "        else:\n",
    "            assert len(output_size) == 2\n",
    "            self.output_size = output_size\n",
    "\n",
    "    def __call__(self, sample):\n",
    "        image, digit_1, digit_2, digit_3 = sample['image'], sample['digit_1'], sample['digit_2'], sample['digit_3']\n",
    "\n",
    "        h, w = image.shape # changed from [:2] to nothing as the images are gray scale\n",
    "        new_h, new_w = self.output_size\n",
    "        \n",
    "#         pdb.set_trace()\n",
    "        top = np.random.randint(0, h - new_h)\n",
    "        left = np.random.randint(0, w - new_w)\n",
    "\n",
    "        image = image[top: top + new_h,\n",
    "                      left: left + new_w]\n",
    "\n",
    "\n",
    "\n",
    "        return {'image': image, 'digit_1': digit_1, 'digit_2': digit_2, 'digit_3': digit_3}\n",
    "\n",
    "\n",
    "class ToTensor(object):\n",
    "    \"\"\"Convert ndarrays in sample to Tensors.\"\"\"\n",
    "\n",
    "    def __call__(self, sample):\n",
    "        image, digit_1, digit_2, digit_3 = sample['image'], sample['digit_1'], sample['digit_2'], sample['digit_3']\n",
    "        # swap color axis because\n",
    "        # numpy image: H x W x C\n",
    "        # torch image: C X H X W\n",
    "        image = image[np.newaxis,:,:]\n",
    "        image = image.transpose((2, 0, 1))\n",
    "        \n",
    "        return {'image': torch.from_numpy(image), 'digit_1':  torch.from_numpy(np.array(digit_1)),\n",
    "                'digit_2':  torch.from_numpy(np.array(digit_2)), 'digit_3':  torch.from_numpy(np.array(digit_3))}\n"
   ]
  },
  {
   "cell_type": "code",
   "execution_count": 4,
   "metadata": {},
   "outputs": [],
   "source": [
    "class ThreeGramDigitDataset(torch.utils.data.Dataset):\n",
    "    \n",
    "    def __init__(self, gt_file, dataset_root, shuffle = False, transform = None):\n",
    "        \n",
    "        self.dataset_root = dataset_root\n",
    "        self.all_file_names = [x.split(' ')[0] for x in open(gt_file).readlines()]\n",
    "        self.labels = [int(x.split(' ')[1]) for x in open(gt_file).readlines()]\n",
    "        self.shuffle = shuffle\n",
    "        \n",
    "        if self.shuffle:\n",
    "            temp = list(zip(self.all_file_names, self.labels))\n",
    "            random.shuffle(temp)\n",
    "            self.all_file_names, self.labels = zip(*temp)\n",
    "        \n",
    "        self.transform = transform\n",
    "    \n",
    "    \n",
    "    def __len__(self):\n",
    "        return len(self.all_file_names)\n",
    "\n",
    "        \n",
    "    def __getitem__(self, idx):\n",
    "        \n",
    "        img_name = os.path.join(self.dataset_root, self.all_file_names[idx])\n",
    "        image = io.imread(img_name)\n",
    "        \n",
    "        label_1 = int(self.labels[idx]/100) # first digit\n",
    "        label_2 = int((self.labels[idx]%100)/10) # second digit\n",
    "        label_3 = int((self.labels[idx]%100)%10) # third digit\n",
    "        \n",
    "        sample = {'image': image, 'digit_1': label_1, 'digit_2': label_2, 'digit_3': label_3}\n",
    "\n",
    "        \n",
    "        if self.transform:\n",
    "            sample = self.transform(sample)\n",
    "        \n",
    "        return sample     \n",
    "        "
   ]
  },
  {
   "cell_type": "code",
   "execution_count": 5,
   "metadata": {},
   "outputs": [
    {
     "data": {
      "text/plain": [
       "13500"
      ]
     },
     "execution_count": 5,
     "metadata": {},
     "output_type": "execute_result"
    }
   ],
   "source": [
    "train_data_loader = ThreeGramDigitDataset('/tmp/avijit_dataset/3Gram_Out.txt', '/tmp/avijit_dataset/3Gram_Digits',\n",
    "                                          shuffle = True)\n",
    "len(train_data_loader)"
   ]
  },
  {
   "cell_type": "code",
   "execution_count": 6,
   "metadata": {},
   "outputs": [
    {
     "name": "stdout",
     "output_type": "stream",
     "text": [
      "0 (48, 106)\n",
      "1 (48, 96)\n",
      "2 (48, 67)\n",
      "3 (48, 98)\n"
     ]
    },
    {
     "data": {
      "image/png": "[encoded data removed]",
      "text/plain": [
       "<matplotlib.figure.Figure at 0x7f72c77b72e8>"
      ]
     },
     "metadata": {},
     "output_type": "display_data"
    }
   ],
   "source": [
    "fig = plt.figure()\n",
    "\n",
    "for i in range(len(train_data_loader)):\n",
    "    sample = train_data_loader[i]\n",
    "\n",
    "    print(i, sample['image'].shape)\n",
    "\n",
    "    ax = plt.subplot(1, 4, i + 1)\n",
    "    plt.tight_layout()\n",
    "    ax.set_title('Sample #{}'.format(str(sample['digit_1'])+str(sample['digit_2'])+str(sample['digit_3'])))\n",
    "    ax.axis('off')\n",
    "    show_samples(**sample) # way of passing a dictionary\n",
    "    if i == 3:\n",
    "        plt.show()\n",
    "        break"
   ]
  },
  {
   "cell_type": "code",
   "execution_count": 7,
   "metadata": {},
   "outputs": [
    {
     "data": {
      "image/png": "[encoded data removed]",
      "text/plain": [
       "<matplotlib.figure.Figure at 0x7f72799a2f98>"
      ]
     },
     "metadata": {},
     "output_type": "display_data"
    }
   ],
   "source": [
    "scale = Rescale(256)\n",
    "# crop = RandomCrop(20)\n",
    "composed = transforms.Compose([Rescale(99)])\n",
    "\n",
    "# Apply each of the above transforms on sample.\n",
    "fig = plt.figure()\n",
    "sample = train_data_loader[100]\n",
    "for i, tsfrm in enumerate([scale, composed]):\n",
    "#     print(tsfrm)\n",
    "    transformed_sample = tsfrm(sample)\n",
    "\n",
    "    ax = plt.subplot(1, 3, i + 1)\n",
    "    plt.tight_layout()\n",
    "    ax.set_title(type(tsfrm).__name__)\n",
    "    show_samples(**transformed_sample)\n",
    "\n",
    "plt.show()"
   ]
  },
  {
   "cell_type": "code",
   "execution_count": 8,
   "metadata": {},
   "outputs": [],
   "source": [
    "train_data_loader = ThreeGramDigitDataset('/tmp/avijit_dataset/3Gram_Out.txt', '/tmp/avijit_dataset/3Gram_Digits',\n",
    "                                          shuffle = True, transform=transforms.Compose([\n",
    "                                               Rescale(99),\n",
    "                                               ToTensor()\n",
    "                                           ]))\n",
    "\n",
    "# Batch the dataloader\n",
    "dataloader = torch.utils.data.DataLoader(train_data_loader, batch_size=4,\n",
    "                        shuffle=True, num_workers=4)\n"
   ]
  },
  {
   "cell_type": "code",
   "execution_count": 10,
   "metadata": {},
   "outputs": [],
   "source": [
    "# Model definition\n",
    "\n",
    "class Net(nn.Module):\n",
    "    def __init__(self):\n",
    "        super(Net, self).__init__()\n",
    "        self.conv1 = nn.Conv2d(1, 10, kernel_size=5)\n",
    "        self.conv2 = nn.Conv2d(10, 20, kernel_size=5)\n",
    "        self.conv2_drop = nn.Dropout2d()\n",
    "        self.fc1 = nn.Linear(320, 50)\n",
    "        self.fc2_1 = nn.Linear(50, 10)\n",
    "        self.fc2_2 = nn.Linear(50, 10)\n",
    "        self.fc3_3 = nn.Linear(50, 10)\n",
    "\n",
    "    def forward(self, x):\n",
    "        x = F.relu(F.max_pool2d(self.conv1(x), 2))\n",
    "        x = F.relu(F.max_pool2d(self.conv2_drop(self.conv2(x)), 2))\n",
    "        x = x.view(-1, 320)\n",
    "        x = F.relu(self.fc1(x))\n",
    "        x = F.dropout(x, training=self.training)\n",
    "        x1 = self.fc2_1(x)\n",
    "        x2 = self.fc2_2(x)\n",
    "        x3 = self.fc2_3(x)\n",
    "        return F.log_softmax(x1), F.log_softmax(x2), F.log_softmax(x3)\n",
    "    \n",
    "model = Net().cuda()\n",
    "optimizer = optim.SGD(model.parameters(), lr=0.001, momentum=0.9)"
   ]
  },
  {
   "cell_type": "code",
   "execution_count": null,
   "metadata": {
    "collapsed": true
   },
   "outputs": [],
   "source": [
    "\n"
   ]
  }
 ],
 "metadata": {
  "kernelspec": {
   "display_name": "Python 3",
   "language": "python",
   "name": "python3"
  },
  "language_info": {
   "codemirror_mode": {
    "name": "ipython",
    "version": 3
   },
   "file_extension": ".py",
   "mimetype": "text/x-python",
   "name": "python",
   "nbconvert_exporter": "python",
   "pygments_lexer": "ipython3",
   "version": "3.6.1"
  }
 },
 "nbformat": 4,
 "nbformat_minor": 2
}
