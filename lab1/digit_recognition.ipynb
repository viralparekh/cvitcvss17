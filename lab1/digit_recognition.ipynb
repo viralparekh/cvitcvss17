{
 "cells": [
  {
   "cell_type": "code",
   "execution_count": 1,
   "metadata": {
    "collapsed": true
   },
   "outputs": [],
   "source": [
    "# Import all libraries\n",
    "import os\n",
    "import numpy as np\n",
    "from skimage import io, transform\n",
    "import torch\n",
    "import torch.utils.data\n",
    "import torch.nn as nn\n",
    "import torch.optim as optim\n",
    "import torch.nn.functional as F\n",
    "from torch.autograd import Variable\n",
    "from torchvision import datasets, transforms\n",
    "import random\n",
    "import matplotlib.pyplot as plt\n",
    "%matplotlib inline\n",
    "# To be removed in the final version. Right now facing gpu memory problem\n",
    "#p#os.environ[\"CUDA_DEVICE_ORDER\"]=\"PCI_BUS_ID\"   # see issue #152\n",
    "#p#os.environ[\"CUDA_VISIBLE_DEVICES\"]=\"0\"\n",
    "# Ignore warnings\n",
    "import warnings\n",
    "warnings.filterwarnings(\"ignore\")\n",
    "\n",
    "plt.ion()   # interactive mode\n"
   ]
  },
  {
   "cell_type": "code",
   "execution_count": 2,
   "metadata": {
    "collapsed": true
   },
   "outputs": [],
   "source": [
    "def show_samples(image, digit):\n",
    "    plt.imshow(image, cmap = 'gray')\n",
    "    plt.pause(0.001)  # pause a bit so that plots are updated"
   ]
  },
  {
   "cell_type": "code",
   "execution_count": 3,
   "metadata": {
    "collapsed": true
   },
   "outputs": [],
   "source": [
    "import pdb\n",
    "class Rescale(object):\n",
    "    \"\"\"Rescale the image in a sample to a given size.\n",
    "\n",
    "    Args:\n",
    "        output_size (tuple or tuple): Desired output size. If tuple, output is\n",
    "            matched to output_size. If int, smaller of image edges is matched\n",
    "            to output_size keeping aspect ratio the same.\n",
    "    \"\"\"\n",
    "\n",
    "    def __init__(self, output_size):\n",
    "        assert isinstance(output_size, (int, tuple))\n",
    "        self.output_size = output_size\n",
    "\n",
    "    def __call__(self, sample):\n",
    "#         image, label_1, label_2, label_3 = sample['image'], sample['digit'][0], sample['digit'][1], sample['digit'][2]\n",
    "        image, label = sample['image'], sample['digit']\n",
    "        h, w = image.shape\n",
    "        if isinstance(self.output_size, int):\n",
    "            if h > w:\n",
    "                new_h, new_w = self.output_size * h / w, self.output_size\n",
    "            else:\n",
    "                new_h, new_w = self.output_size, self.output_size * w / h\n",
    "        else:\n",
    "            new_h, new_w = self.output_size\n",
    "\n",
    "        new_h, new_w = int(new_h), int(new_w)\n",
    "\n",
    "        img = transform.resize(image, (new_h, new_w))\n",
    "\n",
    "        return {'image': img, 'digit': label}\n",
    "\n",
    "class Resize(object):\n",
    "    \"\"\"Rescale the image in a sample to a given size.\n",
    "\n",
    "    Args:\n",
    "        output_size (tuple or tuple): Desired output size. If tuple, output is\n",
    "            matched to output_size. If int, smaller of image edges is matched\n",
    "            to output_size keeping aspect ratio the same.\n",
    "    \"\"\"\n",
    "\n",
    "    def __init__(self, output_size):\n",
    "        assert isinstance(output_size, (int, tuple))\n",
    "        self.output_size = output_size\n",
    "\n",
    "    def __call__(self, sample):\n",
    "#         image, label_1, label_2, label_3 = sample['image'], sample['digit'][0], sample['digit'][1], sample['digit'][2]\n",
    "        image, label = sample['image'], sample['digit']\n",
    "        h, w = image.shape\n",
    "        new_h, new_w = self.output_size\n",
    "\n",
    "        new_h, new_w = int(new_h), int(new_w)\n",
    "\n",
    "        img = transform.resize(image, (new_h, new_w))\n",
    "#         print label\n",
    "        return {'image': img, 'digit': label}\n",
    "    \n",
    "class RandomCrop(object):\n",
    "    \"\"\"Crop randomly the image in a sample.\n",
    "\n",
    "    Args:\n",
    "        output_size (tuple or int): Desired output size. If int, square crop\n",
    "            is made.\n",
    "    \"\"\"\n",
    "\n",
    "    def __init__(self, output_size):\n",
    "        assert isinstance(output_size, (int, tuple))\n",
    "        if isinstance(output_size, int):\n",
    "            self.output_size = (output_size, output_size)\n",
    "        else:\n",
    "            assert len(output_size) == 2\n",
    "            self.output_size = output_size\n",
    "\n",
    "    def __call__(self, sample):\n",
    "#         image, label_1, label_2, label_3 = sample['image'], sample['digit'][0], sample['digit'][1], sample['digit'][2]\n",
    "        image, label = sample['image'], sample['digit']\n",
    "        h, w = image.shape # changed from [:2] to nothing as the images are gray scale\n",
    "        new_h, new_w = self.output_size\n",
    "        \n",
    "#         pdb.set_trace()\n",
    "        top = np.random.randint(0, h - new_h)\n",
    "        left = np.random.randint(0, w - new_w)\n",
    "\n",
    "        image = image[top: top + new_h,\n",
    "                      left: left + new_w]\n",
    "\n",
    "\n",
    "\n",
    "        return {'image': image, 'digit': label}\n",
    "\n",
    "\n",
    "class ToTensor(object):\n",
    "    \"\"\"Convert ndarrays in sample to Tensors.\"\"\"\n",
    "\n",
    "    def __call__(self, sample):\n",
    "        image, label = sample['image'], sample['digit']\n",
    "        # swap color axis because\n",
    "        # numpy image: H x W x C\n",
    "        # torch image: C X H X W\n",
    "        image = image[np.newaxis,:,:]\n",
    "        #print(image.shape)\n",
    "        #image = image.transpose((0, 2, 1))\n",
    "#         print(label)\n",
    "        return {'image': torch.from_numpy(image).float(), 'digit': (torch.from_numpy(np.array([label])))}\n"
   ]
  },
  {
   "cell_type": "code",
   "execution_count": 4,
   "metadata": {
    "collapsed": true
   },
   "outputs": [],
   "source": [
    "class ThreeGramDigitDataset(torch.utils.data.Dataset):\n",
    "    \n",
    "    def __init__(self, gt_file, dataset_root, shuffle = False, transform = None):\n",
    "        \n",
    "        self.dataset_root = dataset_root\n",
    "        self.all_file_names = [x.split(' ')[0] for x in open(gt_file).readlines()]\n",
    "        self.labels = [int(x.split(' ')[1]) for x in open(gt_file).readlines()]\n",
    "        self.shuffle = shuffle\n",
    "        \n",
    "        if self.shuffle:\n",
    "            temp = list(zip(self.all_file_names, self.labels))\n",
    "            random.shuffle(temp)\n",
    "            self.all_file_names, self.labels = zip(*temp)\n",
    "        \n",
    "        self.transform = transform\n",
    "    \n",
    "    \n",
    "    def __len__(self):\n",
    "        return len(self.all_file_names)\n",
    "\n",
    "        \n",
    "    def __getitem__(self, idx):\n",
    "        \n",
    "        img_name = os.path.join(self.dataset_root, self.all_file_names[idx])\n",
    "#         print(img_name)\n",
    "        image = io.imread(img_name)\n",
    "        \n",
    "        \n",
    "#         label_1 = int(self.labels[idx]/100) # first digit\n",
    "#         label_2 = int((self.labels[idx]%100)/10) # second digit\n",
    "#         label_3 = int((self.labels[idx]%100)%10) # third digit\n",
    "#         print(self.labels[idx])\n",
    "        sample = {'image': image, 'digit': self.labels[idx]}\n",
    "\n",
    "        \n",
    "        if self.transform:\n",
    "#             print(\"transform\")\n",
    "            sample = self.transform(sample)\n",
    "        \n",
    "        return sample     \n",
    "        "
   ]
  },
  {
   "cell_type": "code",
   "execution_count": 5,
   "metadata": {},
   "outputs": [
    {
     "data": {
      "text/plain": [
       "13500"
      ]
     },
     "execution_count": 5,
     "metadata": {},
     "output_type": "execute_result"
    }
   ],
   "source": [
    "train_dataset = ThreeGramDigitDataset('3Gram_ann.txt', '../../data/lab1/imgFolders/3Gram_Digits', shuffle = False)\n",
    "len(train_dataset)"
   ]
  },
  {
   "cell_type": "code",
   "execution_count": 6,
   "metadata": {},
   "outputs": [
    {
     "name": "stdout",
     "output_type": "stream",
     "text": [
      "(0, (48, 104))\n",
      "(1, (48, 122))\n",
      "(2, (48, 82))\n",
      "(3, (48, 104))\n"
     ]
    },
    {
     "data": {
      "image/png": "[encoded data removed]",
      "text/plain": [
       "<matplotlib.figure.Figure at 0x7fa73c9fea10>"
      ]
     },
     "metadata": {},
     "output_type": "display_data"
    }
   ],
   "source": [
    "fig = plt.figure()\n",
    "\n",
    "for i in range(len(train_dataset)):\n",
    "    sample = train_dataset[i]\n",
    "\n",
    "    print(i, sample['image'].shape)\n",
    "\n",
    "    ax = plt.subplot(1, 4, i + 1)\n",
    "    plt.tight_layout()\n",
    "    ax.set_title('Sample #{}'.format(str(sample['digit'])))\n",
    "    ax.axis('off')\n",
    "    show_samples(**sample) # way of passing a dictionary\n",
    "    if i == 3:\n",
    "        plt.show()\n",
    "        break"
   ]
  },
  {
   "cell_type": "code",
   "execution_count": 7,
   "metadata": {},
   "outputs": [
    {
     "name": "stdout",
     "output_type": "stream",
     "text": [
      "<__main__.Rescale object at 0x7fa6c6bb82d0>\n",
      "0\n",
      "(256, 650)\n",
      "<torchvision.transforms.Compose object at 0x7fa6c6bb85d0>\n",
      "1\n",
      "(64, 128)\n"
     ]
    },
    {
     "data": {
      "image/png": "[encoded data removed]",
      "text/plain": [
       "<matplotlib.figure.Figure at 0x7fa6c6bb8210>"
      ]
     },
     "metadata": {},
     "output_type": "display_data"
    }
   ],
   "source": [
    "\n",
    "scale = Rescale(256)\n",
    "crop = RandomCrop(64)\n",
    "composed = transforms.Compose([Rescale(99),Resize((64,128))])\n",
    "\n",
    "# Apply each of the above transforms on sample.\n",
    "fig = plt.figure()\n",
    "sample = train_dataset[1]\n",
    "#pdb.set_trace()\n",
    "for i, tsfrm in enumerate([scale, composed]):\n",
    "    print(tsfrm)\n",
    "    print(i)\n",
    "    #pdb.set_trace()\n",
    "    transformed_sample = tsfrm(sample)\n",
    "    print(transformed_sample['image'].shape)\n",
    "    ax = plt.subplot(1, 3, i + 1)\n",
    "    plt.tight_layout()\n",
    "    ax.set_title(type(tsfrm).__name__)\n",
    "    show_samples(**transformed_sample)\n",
    "\n",
    "plt.show()"
   ]
  },
  {
   "cell_type": "code",
   "execution_count": 20,
   "metadata": {},
   "outputs": [],
   "source": [
    "# train_dataset = ThreeGramDigitDataset('3Gram_ann_test.txt', '../../data/lab1/imgFolders/3Gram_Digits',\n",
    "#                                           shuffle = False, transform=transforms.Compose([\n",
    "#                                                Resize((64,128)),\n",
    "#                                                ToTensor()\n",
    "#                                            ]))\n",
    "\n",
    "\n",
    "\n",
    "train_dataset = ThreeGramDigitDataset('3Gram_ann_train.txt', '../../data/lab1/imgFolders/3Gram_Digits',\n",
    "                                          shuffle = True, transform=transforms.Compose([\n",
    "                                               Resize((64,128)),\n",
    "                                               ToTensor()\n",
    "                                           ]))\n",
    "test_dataset = ThreeGramDigitDataset('3Gram_ann_test.txt', '../../data/lab1/imgFolders/3Gram_Digits',\n",
    "                                          shuffle = True, transform=transforms.Compose([\n",
    "                                               Resize((64,128)),\n",
    "                                               ToTensor()\n",
    "                                           ]))"
   ]
  },
  {
   "cell_type": "code",
   "execution_count": 21,
   "metadata": {
    "collapsed": true
   },
   "outputs": [],
   "source": [
    "# Batch the dataloader\n",
    "train_dataloader = torch.utils.data.DataLoader(train_dataset, batch_size=4,\n",
    "                        shuffle=True, num_workers=1)\n",
    "test_dataloader = torch.utils.data.DataLoader(test_dataset, batch_size=4,\n",
    "                        shuffle=False, num_workers=1)"
   ]
  },
  {
   "cell_type": "code",
   "execution_count": 22,
   "metadata": {
    "collapsed": true
   },
   "outputs": [],
   "source": [
    "# Model definition\n",
    "import pdb\n",
    "class Net(nn.Module):\n",
    "    def __init__(self):\n",
    "        super(Net, self).__init__()\n",
    "        self.conv1 = nn.Conv2d(1, 10, kernel_size=5)\n",
    "        self.conv2 = nn.Conv2d(10, 20, kernel_size=5)\n",
    "#         self.conv2_drop = nn.Dropout2d()\n",
    "        self.fc1 = nn.Linear(7540, 50)\n",
    "        self.fc2_1 = nn.Linear(50, 10)\n",
    "        self.fc2_2 = nn.Linear(50, 10)\n",
    "        self.fc2_3 = nn.Linear(50, 10)\n",
    "\n",
    "    def forward(self, x):\n",
    "        x = F.relu(F.max_pool2d(self.conv1(x), 2))\n",
    "        x = F.relu(F.max_pool2d(self.conv2(x), 2))\n",
    "#         print(x.size())\n",
    "#         pdb.set_trace()\n",
    "        x = x.view(-1, 7540)\n",
    "        x = F.relu(self.fc1(x))\n",
    "#         x = F.dropout(x, training=self.training)\n",
    "        x1 = self.fc2_1(x)\n",
    "        x2 = self.fc2_2(x)\n",
    "        x3 = self.fc2_3(x)\n",
    "#         return F.log_softmax(x1), F.log_softmax(x2), F.log_softmax(x3)\n",
    "        return x1, x2, x3\n",
    "    \n",
    "model = Net().cuda()\n",
    "criterion = nn.CrossEntropyLoss()\n",
    "optimizer = optim.Adam(model.parameters(), lr=0.001)"
   ]
  },
  {
   "cell_type": "code",
   "execution_count": 18,
   "metadata": {},
   "outputs": [
    {
     "name": "stdout",
     "output_type": "stream",
     "text": [
      "[1,  2000] loss: 0.627\n",
      "[2,  2000] loss: 0.469\n",
      "[3,  2000] loss: 0.399\n",
      "[4,  2000] loss: 0.336\n",
      "[5,  2000] loss: 0.312\n",
      "[6,  2000] loss: 0.287\n",
      "[7,  2000] loss: 0.267\n",
      "[8,  2000] loss: 0.238\n",
      "[9,  2000] loss: 0.241\n",
      "[10,  2000] loss: 0.230\n"
     ]
    },
    {
     "data": {
      "image/png": "[encoded data removed]",
      "text/plain": [
       "<matplotlib.figure.Figure at 0x7fa6c6bc4650>"
      ]
     },
     "metadata": {},
     "output_type": "display_data"
    },
    {
     "name": "stdout",
     "output_type": "stream",
     "text": [
      "Finished Training\n"
     ]
    }
   ],
   "source": [
    "import pdb\n",
    "\n",
    "plotIter = 2000\n",
    "plotIterCntr = 0\n",
    "numEpochs = 10\n",
    "trainLoss = np.zeros((plotIter*numEpochs,1))\n",
    "trainIter = np.arange(plotIter*numEpochs)\n",
    "\n",
    "for epoch in range(numEpochs):  # loop over the dataset multiple times\n",
    "\n",
    "    running_loss = 0.0\n",
    "#     pdb.set_trace()\n",
    "    for i, data in enumerate(train_dataloader):\n",
    "#         pdb.set_trace()\n",
    "        # get the inputs\n",
    "        inputs, labels = data['image'], data['digit']\n",
    "        \n",
    "#         label_1 = int(labels/100) # first digit\n",
    "#         label_2 = int((labels%100)/10) # second digit\n",
    "#         label_3 = int((labels%100)%10) # third digit\n",
    "        labels_1 = torch.div(labels, 100)\n",
    "        labels_2 = torch.div(torch.fmod(labels, 100), 10)\n",
    "        labels_3 = torch.fmod(torch.fmod(labels, 100), 10)\n",
    "        \n",
    "        # wrap them in Variable\n",
    "        inputs, labels_1, labels_2, labels_3 = Variable(inputs.cuda()),Variable(labels_1.cuda()), Variable(labels_2.cuda()), Variable(labels_3.cuda())\n",
    "\n",
    "        # zero the parameter gradients\n",
    "        optimizer.zero_grad()\n",
    "\n",
    "        # forward + backward + optimize\n",
    "#         pdb.set_trace()\n",
    "        outputs_1, outputs_2, outputs_3 = model(inputs)\n",
    "#         print(labels_1)\n",
    "        loss = criterion(outputs_1, labels_1[:,0])+criterion(outputs_2, labels_2[:,0])+criterion(outputs_3, labels_3[:,0])\n",
    "        loss.backward()\n",
    "        optimizer.step()\n",
    "\n",
    "        # print statistics\n",
    "        running_loss += loss.data[0]\n",
    "        \n",
    "        if i % plotIter == plotIter-1:    # print every plotIter mini-batches\n",
    "            trainLoss[plotIterCntr] = running_loss / plotIter\n",
    "            plotIterCntr+=1\n",
    "            \n",
    "            print('[%d, %5d] loss: %.3f' %\n",
    "                  (epoch + 1, i + 1, running_loss / plotIter))\n",
    "            running_loss = 0.0\n",
    "            \n",
    "plt.plot(np.arange(plotIterCntr)*plotIter,trainLoss[0:plotIterCntr], label=\"train\")\n",
    "plt.xlabel('Iteration')\n",
    "plt.ylabel('Loss')\n",
    "plt.show()\n",
    "\n",
    "print('Finished Training')\n"
   ]
  },
  {
   "cell_type": "code",
   "execution_count": 29,
   "metadata": {},
   "outputs": [
    {
     "name": "stdout",
     "output_type": "stream",
     "text": [
      "Accuracy of the network on the 1350 test images: 0 %\n"
     ]
    }
   ],
   "source": [
    "## Prediction of accuracy\n",
    "import pdb\n",
    "\n",
    "correct = 0\n",
    "total = 0\n",
    "\n",
    "#Iterating over the batches returned from testloader\n",
    "for data in test_dataloader:\n",
    "    #images, labels = data\n",
    "    images, labels = data['image'], data['digit']\n",
    "        \n",
    "    outputs_1, outputs_2, outputs_3 = model(Variable(images.cuda()))\n",
    "    \n",
    "    _, predicted_1 = torch.max(outputs_1.data, 1)\n",
    "    _, predicted_2 = torch.max(outputs_2.data, 1)\n",
    "    _, predicted_3 = torch.max(outputs_3.data, 1)\n",
    "    \n",
    "    predicted = predicted_1.mul(100) + predicted_2*10 + predicted_3\n",
    "    #pdb.set_trace()\n",
    "    total += labels.size(0)\n",
    "    labels = labels.cuda()\n",
    "    correct += (predicted == labels).sum()\n",
    "\n",
    "print('Accuracy of the network on the 1350 test images: %d %%' % (\n",
    "    100 * correct / total))"
   ]
  },
  {
   "cell_type": "code",
   "execution_count": null,
   "metadata": {
    "collapsed": true
   },
   "outputs": [],
   "source": []
  }
 ],
 "metadata": {
  "kernelspec": {
   "display_name": "Python 2",
   "language": "python",
   "name": "python2"
  },
  "language_info": {
   "codemirror_mode": {
    "name": "ipython",
    "version": 2
   },
   "file_extension": ".py",
   "mimetype": "text/x-python",
   "name": "python",
   "nbconvert_exporter": "python",
   "pygments_lexer": "ipython2",
   "version": "2.7.12"
  }
 },
 "nbformat": 4,
 "nbformat_minor": 2
}
