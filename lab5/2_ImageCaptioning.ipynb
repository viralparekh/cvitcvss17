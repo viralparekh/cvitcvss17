{
 "cells": [
  {
   "cell_type": "markdown",
   "metadata": {},
   "source": [
    "### Problem Statement"
   ]
  },
  {
   "cell_type": "markdown",
   "metadata": {},
   "source": [
    "text here"
   ]
  },
  {
   "cell_type": "markdown",
   "metadata": {},
   "source": [
    "image here"
   ]
  },
  {
   "cell_type": "markdown",
   "metadata": {},
   "source": [
    "### 1) Imports"
   ]
  },
  {
   "cell_type": "code",
   "execution_count": null,
   "metadata": {
    "collapsed": true
   },
   "outputs": [],
   "source": [
    "from __future__ import print_function           # Use print() instead of print\n",
    "from __future__ import division                 # 1 / 2 = 0.5, 1 // 2 = 0\n",
    "import numpy as np                              # for numpy\n",
    "import torch                                    # import PyTorch module \n",
    "import torch.nn as nn                           # neural network module\n",
    "from torch.nn.utils.rnn import pack_padded_sequence  # rnn utility function\n",
    "from torch.utils.data import DataLoader         # dataloader abstracts sampling of minibatch\n",
    "import torchvision.datasets as dset             # standard machine learning datasets\n",
    "import torchvision.transforms as tform          # transforms for data augmentation\n",
    "import torchvision.models as models             # pretrained models\n",
    "from torch.autograd import Variable             # auto differentiation\n",
    "import sd_utils as utils                        # some python helper functions ( see: sd_utils.py )\n",
    "import skimage                                  # for image processing. Note: image is simple a numpy array !!\n",
    "import skimage.io as skio                       # for image read, write, show operations\n",
    "from pprint import pprint                       # for pretty printing\n",
    "from sklearn.preprocessing import LabelEncoder  \n",
    "from collections import Counter\n",
    "import nltk\n",
    "from itertools import chain\n",
    "from tqdm import tqdm\n",
    "import time"
   ]
  },
  {
   "cell_type": "markdown",
   "metadata": {},
   "source": [
    "### 2) Hyper Parmaters and Initializations"
   ]
  },
  {
   "cell_type": "code",
   "execution_count": null,
   "metadata": {
    "collapsed": true
   },
   "outputs": [],
   "source": [
    "crop_size = 224                                  # standard crop size used by many pretrained networks\n",
    "mean_rgb = (0.485, 0.456, 0.406)                 # precomputed mean value ( assume given : its easy to compute, but lets not focus on it)\n",
    "std_rgb = (0.229, 0.224, 0.225)                  # precomputed std dev value\n",
    "batch_size = 128\n",
    "num_workers = 4\n",
    "img_dir = '../../data/lab5/coco/resized2014/'\n",
    "annotations_file = '../../data/lab5/coco/annotations/captions_train2014.json'\n",
    "threshold = 4\n",
    "embed_size = 256\n",
    "hidden_size = 512\n",
    "num_layers = 1\n",
    "learning_rate = 0.001\n",
    "num_epochs = 5\n",
    "num_captions = 5\n",
    "max_length = 50\n",
    "log_step = 10\n",
    "save_step = 1000\n"
   ]
  },
  {
   "cell_type": "markdown",
   "metadata": {},
   "source": [
    "### 3) Download and Preprocess Dataset"
   ]
  },
  {
   "cell_type": "code",
   "execution_count": null,
   "metadata": {},
   "outputs": [],
   "source": [
    "# utils.mkdir_p('../data')\n",
    "# utils.mkdir_p('../data/lab5')\n",
    "# utils.mkdir_p('../data/lab5/coco')\n",
    "# utils.mkdir_p('../data/lab5/coco/resized2014')\n",
    "\n",
    "transform = tform.Compose([ \n",
    "        tform.RandomCrop(crop_size),\n",
    "        tform.RandomHorizontalFlip(), \n",
    "        tform.ToTensor(), \n",
    "        tform.Normalize(mean_rgb, std_rgb)])\n",
    "\n",
    "dset_train = dset.CocoCaptions(root=img_dir,\n",
    "                               annFile=annotations_file,\n",
    "                               transform=transform\n",
    "                              )"
   ]
  },
  {
   "cell_type": "markdown",
   "metadata": {},
   "source": [
    "\n",
    "Lets have a look at what kind of data we have. Pick one arbitrary image and visualize it along with its captions. For the image to display, we need to undo to normalization"
   ]
  },
  {
   "cell_type": "code",
   "execution_count": null,
   "metadata": {},
   "outputs": [],
   "source": [
    "print('Number of samples: ', len(dset_train))\n",
    "img, target = dset_train[45] # load some sample\n",
    "print(\"Image Size: \", img.size())\n",
    "print(\"Image:\")\n",
    "cimg = img.clone().numpy()\n",
    "nimg = cimg * np.array(std_rgb).reshape(3,1,1) + np.array(mean_rgb).reshape(3,1,1)\n",
    "nimg = nimg.transpose([1,2,0])\n",
    "skio.imshow(nimg)\n",
    "skio.show()\n",
    "print(\"Captions:\")\n",
    "pprint(target)"
   ]
  },
  {
   "cell_type": "markdown",
   "metadata": {},
   "source": [
    "### 4) Create DataLoader objects"
   ]
  },
  {
   "cell_type": "code",
   "execution_count": null,
   "metadata": {
    "collapsed": true
   },
   "outputs": [],
   "source": [
    "dloader_train = torch.utils.data.DataLoader(dataset=dset_train, \n",
    "                                            batch_size=batch_size,\n",
    "                                            shuffle=True,\n",
    "                                            num_workers=num_workers,\n",
    "                                           )"
   ]
  },
  {
   "cell_type": "code",
   "execution_count": null,
   "metadata": {
    "collapsed": true
   },
   "outputs": [],
   "source": [
    "#itr = iter(dloader_train)\n",
    "# print(next(itr))"
   ]
  },
  {
   "cell_type": "code",
   "execution_count": null,
   "metadata": {},
   "outputs": [],
   "source": [
    "%%time\n",
    "\n",
    "threshold = 1000\n",
    "\n",
    "dloader_train_seq = torch.utils.data.DataLoader(dataset=dset_train, \n",
    "                                                batch_size=batch_size,\n",
    "                                                shuffle=False,\n",
    "                                                num_workers=num_workers,\n",
    "                                            )\n",
    "\n",
    "# print(dloader_train_seq)\n",
    "# itr = iter(dloader_train_seq)\n",
    "# print(itr)\n",
    "# a = next(itr)\n",
    "\n",
    "ctr = Counter()\n",
    "for i, (_, lbl) in enumerate(tqdm(dloader_train_seq)):\n",
    "    lbl_list = list(chain(*lbl))\n",
    "    # print(lbl_list)\n",
    "    for x in lbl_list:\n",
    "        tokens = nltk.tokenize.word_tokenize(x.lower())\n",
    "        # print(tokens)\n",
    "        ctr.update(tokens)\n",
    "    \n",
    "        \n",
    "# words = [word for word, cnt in ctr.items() if cnt >= threshold]\n",
    "words = [word for word, cnt in ctr.items()]\n",
    "print(sorted(words))"
   ]
  },
  {
   "cell_type": "code",
   "execution_count": null,
   "metadata": {
    "collapsed": true
   },
   "outputs": [],
   "source": [
    "words = ['<pad>', '<start>', '<end>', '<unk>'] + words   # add additional tokens\n",
    "vocab_len = len(words)\n",
    "print(vocab_len)"
   ]
  },
  {
   "cell_type": "code",
   "execution_count": null,
   "metadata": {
    "collapsed": true
   },
   "outputs": [],
   "source": [
    "le = LabelEncoder()\n",
    "le.fit(words)\n",
    "le.transform(['river', 'hanging', 'oranges'])"
   ]
  },
  {
   "cell_type": "markdown",
   "metadata": {},
   "source": [
    "### 5) Define Network"
   ]
  },
  {
   "cell_type": "code",
   "execution_count": null,
   "metadata": {
    "collapsed": true
   },
   "outputs": [],
   "source": [
    "class EncoderCNN(nn.Module):\n",
    "    def __init__(self, embed_size):\n",
    "        \"\"\"Load the pretrained ResNet-18 and replace top fc layer.\"\"\"\n",
    "        super(EncoderCNN, self).__init__()\n",
    "        resnet = models.resnet18(pretrained=True)\n",
    "        modules = list(resnet.children())[:-1]      # delete the last fc layer.\n",
    "        self.resnet = nn.Sequential(*modules)\n",
    "        self.linear = nn.Linear(resnet.fc.in_features, embed_size)\n",
    "        self.bn = nn.BatchNorm1d(embed_size, momentum=0.01)\n",
    "        self.init_weights()\n",
    "        \n",
    "    def init_weights(self):\n",
    "        \"\"\"Initialize the weights.\"\"\"\n",
    "        self.linear.weight.data.normal_(0.0, 0.02)\n",
    "        self.linear.bias.data.fill_(0)\n",
    "        \n",
    "    def forward(self, images):\n",
    "        \"\"\"Extract the image feature vectors.\"\"\"\n",
    "        features = self.resnet(images)\n",
    "        features = Variable(features.data)\n",
    "        features = features.view(features.size(0), -1)\n",
    "        features = self.bn(self.linear(features))\n",
    "        return features\n",
    "    \n",
    "    \n",
    "class DecoderRNN(nn.Module):\n",
    "    def __init__(self, embed_size, hidden_size, vocab_size, num_layers):\n",
    "        \"\"\"Set the hyper-parameters and build the layers.\"\"\"\n",
    "        super(DecoderRNN, self).__init__()\n",
    "        self.embed = nn.Embedding(vocab_size, embed_size)\n",
    "        self.lstm = nn.LSTM(embed_size, hidden_size, num_layers, batch_first=True)\n",
    "        self.linear = nn.Linear(hidden_size, vocab_size)\n",
    "        self.init_weights()\n",
    "    \n",
    "    def init_weights(self):\n",
    "        \"\"\"Initialize weights.\"\"\"\n",
    "        self.embed.weight.data.uniform_(-0.1, 0.1)\n",
    "        self.linear.weight.data.uniform_(-0.1, 0.1)\n",
    "        self.linear.bias.data.fill_(0)\n",
    "        \n",
    "    def forward(self, features, captions, lengths):\n",
    "        \"\"\"Decode image feature vectors and generates captions.\"\"\"\n",
    "        embeddings = self.embed(captions)\n",
    "        embeddings = torch.cat((features.unsqueeze(1), embeddings), 1)\n",
    "        packed = pack_padded_sequence(embeddings, lengths, batch_first=True) \n",
    "        hiddens, _ = self.lstm(packed)\n",
    "        outputs = self.linear(hiddens[0])\n",
    "        return outputs\n",
    "    \n",
    "    def sample(self, features, states=None):\n",
    "        \"\"\"Samples captions for given image features (Greedy search).\"\"\"\n",
    "        sampled_ids = []\n",
    "        inputs = features.unsqueeze(1)\n",
    "        for i in range(20):                                      # maximum sampling length\n",
    "            hiddens, states = self.lstm(inputs, states)          # (batch_size, 1, hidden_size), \n",
    "            outputs = self.linear(hiddens.squeeze(1))            # (batch_size, vocab_size)\n",
    "            predicted = outputs.max(1)[1]\n",
    "            sampled_ids.append(predicted)\n",
    "            inputs = self.embed(predicted)\n",
    "        sampled_ids = torch.cat(sampled_ids, 1)                  # (batch_size, 20)\n",
    "        return sampled_ids.squeeze()\n",
    "    \n",
    " # Build the models\n",
    "encoder = EncoderCNN(embed_size)\n",
    "decoder = DecoderRNN(embed_size, hidden_size, \n",
    "                     vocab_len, num_layers)\n",
    "encoder.cuda()\n",
    "decoder.cuda()"
   ]
  },
  {
   "cell_type": "markdown",
   "metadata": {
    "collapsed": true
   },
   "source": [
    "### 6) Define Loss function and Optimizer"
   ]
  },
  {
   "cell_type": "code",
   "execution_count": null,
   "metadata": {
    "collapsed": true
   },
   "outputs": [],
   "source": [
    " # Loss and Optimizer\n",
    "criterion = nn.CrossEntropyLoss()\n",
    "params = list(decoder.parameters()) + list(encoder.linear.parameters()) + list(encoder.bn.parameters())\n",
    "optimizer = torch.optim.Adam(params, lr=learning_rate)"
   ]
  },
  {
   "cell_type": "markdown",
   "metadata": {},
   "source": [
    "### 7) Training Loop"
   ]
  },
  {
   "cell_type": "code",
   "execution_count": null,
   "metadata": {
    "collapsed": true,
    "scrolled": true
   },
   "outputs": [],
   "source": [
    "\n",
    "\n",
    "# Train the Models\n",
    "num_captions = 5\n",
    "max_length = 50\n",
    "log_step = 10\n",
    "save_step = 1000\n",
    "model_path = '.'\n",
    "\n",
    "total_step = len(dloader_train)\n",
    "for epoch in tqdm(range(num_epochs)):\n",
    "   \n",
    "    for i, (images, captions) in enumerate(dloader_train):\n",
    "        \n",
    "        time_s_step = time.time()\n",
    "        clk_s_step = time.clock()\n",
    "        \n",
    "        # Set mini-batch dataset\n",
    "        # print(len(captions))\n",
    "        # pprint([len(x) for x in captions])\n",
    "        \n",
    "        if images.size(0) != batch_size:\n",
    "            print('skip last batch')\n",
    "            continue\n",
    "        \n",
    "        captions_ = map(list, captions)      # convert list of tuples to list of list\n",
    "        captions_mb = torch.zeros(batch_size, max_length).long()\n",
    "        cap_mb = []\n",
    "        lengths = []\n",
    "        #lengths.append(batch_size)\n",
    "        for j in range(batch_size):\n",
    "            r = np.random.randint(num_captions)\n",
    "            cap_ = captions_[r][j]\n",
    "            cap_l = nltk.tokenize.word_tokenize(cap_.lower())\n",
    "            cap_l = ['<start>'] + cap_l + ['<end>']\n",
    "            cap = le.transform(cap_l)\n",
    "            # pprint(cap)\n",
    "            len_cap = len(cap)\n",
    "            lengths.append(len_cap)\n",
    "            print(captions_mb[j, max_length-len_cap:].size())\n",
    "            print(torch.LongTensor(cap).size())\n",
    "            captions_mb[j, max_length-len_cap:] = torch.LongTensor(cap)\n",
    "        \n",
    "        idx = np.array(lengths).argsort()[::-1].tolist()\n",
    "        sz = images.size()\n",
    "        images_mb = torch.zeros(sz).float()\n",
    "        images_mb.index_copy_(0, torch.LongTensor(idx), images)\n",
    "        images_mb = Variable(images_mb.cuda(), volatile=True)\n",
    "        # print(images_mb.size())\n",
    "        lengths_mb = [lengths[x] for x in idx]\n",
    "        captions_mb = Variable(captions_mb.cuda())\n",
    "        \n",
    "        targets = pack_padded_sequence(captions_mb, lengths_mb, batch_first=True)[0]\n",
    "\n",
    "        # Forward, Backward and Optimize\n",
    "        decoder.zero_grad()\n",
    "        encoder.zero_grad()\n",
    "        features = encoder(images_mb)\n",
    "        outputs = decoder(features, captions_mb, lengths_mb)\n",
    "        loss = criterion(outputs, targets)\n",
    "        loss.backward()\n",
    "        optimizer.step()\n",
    "\n",
    "        time_e_step = time.time()\n",
    "        clk_e_step = time.clock()\n",
    "        \n",
    "        # Print log info\n",
    "        if i % log_step == 0:\n",
    "            print('Epoch [%d/%d], Step [%d/%d], Loss: %.4f, Perplexity: %5.4f | Time: [%05.2f, %05.2f] sec'\n",
    "                  %(epoch, num_epochs, i, total_step, \n",
    "                    loss.data[0], np.exp(loss.data[0]), time_e_step-time_s_step, clk_e_step-clk_s_step)) \n",
    "            \n",
    "        # Save the models\n",
    "        if (i+1) % save_step == 0:\n",
    "            torch.save(decoder.state_dict(), \n",
    "                       os.path.join(model_path, \n",
    "                                    'decoder-%d-%d.pkl' %(epoch+1, i+1)))\n",
    "            torch.save(encoder.state_dict(), \n",
    "                       os.path.join(model_path, \n",
    "                                    'encoder-%d-%d.pkl' %(epoch+1, i+1)))\n",
    "    "
   ]
  },
  {
   "cell_type": "markdown",
   "metadata": {},
   "source": [
    "### 8) Testing Loop"
   ]
  },
  {
   "cell_type": "markdown",
   "metadata": {},
   "source": [
    "### 9) Save / Load Model"
   ]
  },
  {
   "cell_type": "code",
   "execution_count": null,
   "metadata": {
    "collapsed": true
   },
   "outputs": [],
   "source": []
  }
 ],
 "metadata": {
  "kernelspec": {
   "display_name": "Python 2",
   "language": "python",
   "name": "python2"
  },
  "language_info": {
   "codemirror_mode": {
    "name": "ipython",
    "version": 2
   },
   "file_extension": ".py",
   "mimetype": "text/x-python",
   "name": "python",
   "nbconvert_exporter": "python",
   "pygments_lexer": "ipython2",
   "version": "2.7.12"
  }
 },
 "nbformat": 4,
 "nbformat_minor": 2
}
