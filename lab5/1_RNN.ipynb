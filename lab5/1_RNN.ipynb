{
 "cells": [
  {
   "cell_type": "markdown",
   "metadata": {},
   "source": [
    "# RECURRENT NEURAL NETWORKS"
   ]
  },
  {
   "cell_type": "markdown",
   "metadata": {},
   "source": [
    "## Problem Statement"
   ]
  },
  {
   "cell_type": "markdown",
   "metadata": {},
   "source": [
    "text here"
   ]
  },
  {
   "cell_type": "markdown",
   "metadata": {},
   "source": [
    "figure here"
   ]
  },
  {
   "cell_type": "markdown",
   "metadata": {},
   "source": [
    "### 1) Imports"
   ]
  },
  {
   "cell_type": "code",
   "execution_count": 1,
   "metadata": {},
   "outputs": [],
   "source": [
    "from __future__ import print_function           # Use print() instead of print\n",
    "from __future__ import division                 # 1 / 2 = 0.5, 1 // 2 = 0\n",
    "import torch                                    # import PyTorch module \n",
    "import torch.nn as nn                           # neural network module\n",
    "from torch.utils.data import DataLoader         # dataloader abstracts sampling of minibatch\n",
    "import torchvision.datasets as dset             # standard machine learning datasets\n",
    "import torchvision.transforms as tform          # transforms for data augmentation\n",
    "from torch.autograd import Variable             # auto differentiation\n",
    "import sd_utils as utils                        # some python helper functions ( see: sd_utils.py ) "
   ]
  },
  {
   "cell_type": "markdown",
   "metadata": {},
   "source": [
    "### 2) Hyper Parameters and Initializations"
   ]
  },
  {
   "cell_type": "code",
   "execution_count": 2,
   "metadata": {},
   "outputs": [
    {
     "data": {
      "text/plain": [
       "<torch._C.Generator at 0x7fadc3c30d68>"
      ]
     },
     "execution_count": 2,
     "metadata": {},
     "output_type": "execute_result"
    }
   ],
   "source": [
    "torch.manual_seed(1234)                        # set random number seed for repeatability of results"
   ]
  },
  {
   "cell_type": "markdown",
   "metadata": {},
   "source": [
    "#### a) Dataset related"
   ]
  },
  {
   "cell_type": "code",
   "execution_count": 3,
   "metadata": {
    "collapsed": true
   },
   "outputs": [],
   "source": [
    "num_classes = 10                                # MNIST dataset has digits 0 to 9\n",
    "seq_len = 28                                    # 28x28 image is considered as a sequence of 28 rows\n",
    "                                                # number of steps to unroll the RNN for"
   ]
  },
  {
   "cell_type": "markdown",
   "metadata": {},
   "source": [
    "#### b) Learning"
   ]
  },
  {
   "cell_type": "code",
   "execution_count": 4,
   "metadata": {
    "collapsed": true
   },
   "outputs": [],
   "source": [
    "batch_size = 100\n",
    "num_epochs = 2\n",
    "learning_rate = 0.01"
   ]
  },
  {
   "cell_type": "markdown",
   "metadata": {},
   "source": [
    "#### c) Network"
   ]
  },
  {
   "cell_type": "code",
   "execution_count": 5,
   "metadata": {
    "collapsed": true
   },
   "outputs": [],
   "source": [
    "input_size = 28                                # \n",
    "hidden_size = 128                              # number of neurons in the hidden layer\n",
    "num_layers = 2                                 # number of recurrent layers "
   ]
  },
  {
   "cell_type": "markdown",
   "metadata": {},
   "source": [
    "### 3) Download and Preprocess Dataset"
   ]
  },
  {
   "cell_type": "code",
   "execution_count": 6,
   "metadata": {},
   "outputs": [
    {
     "name": "stdout",
     "output_type": "stream",
     "text": [
      "Downloading http://yann.lecun.com/exdb/mnist/train-images-idx3-ubyte.gz\n",
      "Downloading http://yann.lecun.com/exdb/mnist/train-labels-idx1-ubyte.gz\n",
      "Downloading http://yann.lecun.com/exdb/mnist/t10k-images-idx3-ubyte.gz\n",
      "Downloading http://yann.lecun.com/exdb/mnist/t10k-labels-idx1-ubyte.gz\n",
      "Processing...\n",
      "Done!\n"
     ]
    }
   ],
   "source": [
    "utils.mkdir_p('../data')\n",
    "utils.mkdir_p('../data/lab5')                           # create data directories if they do not exist\n",
    "\n",
    "\n",
    "dset_train = dset.MNIST(root='../data/lab5',            # where to download the dataset ?\n",
    "                        train=True,                     # train or test\n",
    "                        transform=tform.ToTensor(),     # what transforms to apply ? can compose many transforms\n",
    "                        download=True                   # download dataset if required\n",
    "                       )\n",
    "\n",
    "dset_test = dset.MNIST(root='../data/lab5',             # where to download the dataset ?\n",
    "                        train=False,                    # train or test\n",
    "                        transform=tform.ToTensor(),     # what transforms to apply ? can compose many transforms\n",
    "                        download=True                   # download dataset if required\n",
    "                       )"
   ]
  },
  {
   "cell_type": "markdown",
   "metadata": {},
   "source": [
    "### 4) Create [DataLoader](http://pytorch.org/docs/_modules/torch/utils/data/dataloader.html) objects (\"[python generator](http://naiquevin.github.io/python-generators-and-being-lazy.html)\" which samples a minibatch from the dataset)"
   ]
  },
  {
   "cell_type": "code",
   "execution_count": 7,
   "metadata": {
    "collapsed": true
   },
   "outputs": [],
   "source": [
    "dloader_train = DataLoader(dataset=dset_train,         # dataset object\n",
    "                           batch_size=batch_size,      # batch size\n",
    "                           shuffle=True                # important to shuffle data while training\n",
    "                          )\n",
    "\n",
    "dloader_test  = DataLoader(dataset=dset_test,          # dataset object\n",
    "                           batch_size=batch_size,      # batch size\n",
    "                           shuffle=False               # main consistent order for test set\n",
    "                          )"
   ]
  },
  {
   "cell_type": "markdown",
   "metadata": {},
   "source": [
    "### 5) Define neural network model : RNN"
   ]
  },
  {
   "cell_type": "code",
   "execution_count": 8,
   "metadata": {},
   "outputs": [],
   "source": [
    "class RNN(nn.Module):\n",
    "    \"\"\"Implements a LSTM network\"\"\"\n",
    "    def __init__(self):\n",
    "        super(RNN, self).__init__()                    # python inheritance: call base class constructor\n",
    "        self.hidden_size = hidden_size                 \n",
    "        self.num_layers = num_layers                  # number of recurrent layers\n",
    "        self.lstm = nn.LSTM(input_size=input_size,    # number of expected features in the input x \n",
    "                            hidden_size=hidden_size,  # number of features in the hidden state h\n",
    "                            num_layers=num_layers,    # number of recurrent layers\n",
    "                            batch_first=True          # order: (batch, seq, feature)\n",
    "                           )\n",
    "        self.fc = nn.Linear(hidden_size, num_classes)\n",
    "    \n",
    "    def forward(self, x):\n",
    "        \n",
    "        # Each image is a separate sequence\n",
    "        # So we need to reinitialize each time\n",
    "        h0 = Variable(torch.zeros(self.num_layers, x.size(0), self.hidden_size)) \n",
    "        c0 = Variable(torch.zeros(self.num_layers, x.size(0), self.hidden_size))\n",
    "        \n",
    "        h = Variable(torch.zeros(self.num_layers, x.size(0), self.hidden_size))\n",
    "            # Decode hidden state of last time step\n",
    "            \n",
    "        # Forward propagate RNN\n",
    "        out, _ = self.lstm(x, (h0, c0))  \n",
    "            \n",
    "        out = self.fc(out[:, -1, :])  \n",
    "        return out\n",
    "    \n",
    "rnn = RNN()"
   ]
  },
  {
   "cell_type": "markdown",
   "metadata": {},
   "source": [
    "### 6) Define Loss function and Optimizer"
   ]
  },
  {
   "cell_type": "code",
   "execution_count": 9,
   "metadata": {
    "collapsed": true
   },
   "outputs": [],
   "source": [
    "criterion = nn.CrossEntropyLoss()\n",
    "optimizer = torch.optim.Adam(rnn.parameters(), lr=learning_rate)     "
   ]
  },
  {
   "cell_type": "markdown",
   "metadata": {},
   "source": [
    "### 7) Training Loop"
   ]
  },
  {
   "cell_type": "code",
   "execution_count": 10,
   "metadata": {},
   "outputs": [
    {
     "name": "stdout",
     "output_type": "stream",
     "text": [
      "Epoch [1/2], Step [100/600], Loss: 0.8047\n",
      "Epoch [1/2], Step [200/600], Loss: 0.2387\n",
      "Epoch [1/2], Step [300/600], Loss: 0.1089\n",
      "Epoch [1/2], Step [400/600], Loss: 0.1174\n",
      "Epoch [1/2], Step [500/600], Loss: 0.1375\n",
      "Epoch [1/2], Step [600/600], Loss: 0.3086\n",
      "Epoch [2/2], Step [100/600], Loss: 0.0915\n",
      "Epoch [2/2], Step [200/600], Loss: 0.2028\n",
      "Epoch [2/2], Step [300/600], Loss: 0.1224\n",
      "Epoch [2/2], Step [400/600], Loss: 0.1017\n",
      "Epoch [2/2], Step [500/600], Loss: 0.1004\n",
      "Epoch [2/2], Step [600/600], Loss: 0.0746\n"
     ]
    }
   ],
   "source": [
    "# Train the Model\n",
    "for epoch in range(num_epochs):\n",
    "    for i, (images, labels) in enumerate(dloader_train):\n",
    "        images = Variable(images.view(-1, seq_len, input_size))\n",
    "        labels = Variable(labels)\n",
    "        \n",
    "        # Forward + Backward + Optimize\n",
    "        optimizer.zero_grad()\n",
    "        outputs = rnn(images)\n",
    "        loss = criterion(outputs, labels)\n",
    "        loss.backward()\n",
    "        optimizer.step()\n",
    "        \n",
    "        if (i+1) % 100 == 0:\n",
    "            print ('Epoch [%d/%d], Step [%d/%d], Loss: %.4f' \n",
    "                   %(epoch+1, num_epochs, i+1, len(dset_train)//batch_size, loss.data[0]))"
   ]
  },
  {
   "cell_type": "markdown",
   "metadata": {},
   "source": [
    "### 8) Testing Loop"
   ]
  },
  {
   "cell_type": "code",
   "execution_count": 11,
   "metadata": {},
   "outputs": [
    {
     "name": "stdout",
     "output_type": "stream",
     "text": [
      "Test Accuracy of the model on the 10000 test images: 96 %\n"
     ]
    }
   ],
   "source": [
    "correct = 0\n",
    "total = 0\n",
    "for images, labels in dloader_test:\n",
    "    images = Variable(images.view(-1, seq_len, input_size))\n",
    "    outputs = rnn(images)\n",
    "    _, predicted = torch.max(outputs.data, 1)\n",
    "    total += labels.size(0)\n",
    "    correct += (predicted == labels).sum()\n",
    "\n",
    "print('Test Accuracy of the model on the 10000 test images: %d %%' % (100 * correct / total)) "
   ]
  },
  {
   "cell_type": "markdown",
   "metadata": {},
   "source": [
    "### 9) Save model "
   ]
  },
  {
   "cell_type": "code",
   "execution_count": 12,
   "metadata": {},
   "outputs": [],
   "source": [
    "torch.save(rnn.state_dict(), 'rnn.pkl')"
   ]
  },
  {
   "cell_type": "markdown",
   "metadata": {},
   "source": [
    "## References\n",
    "Following references were used in preparing this tutorial:\n",
    "1. Yunjey Choi, [PyTorch Tutorials](https://github.com/yunjey/pytorch-tutorial)\n",
    "2. Pytorch, [PyTorch Tuorials](http://pytorch.org/tutorials/)\n",
    "3. Andrej Karpathy, [Unreasonable Effectiveness of RNNs](http://karpathy.github.io/2015/05/21/rnn-effectiveness/)\n",
    "4. Christopher Olah [Understanding LSTMs](http://colah.github.io/posts/2015-08-Understanding-LSTMs/)\n",
    "5. DeepLearning4j [Beginner's guide to learning LSTMs](https://deeplearning4j.org/lstm.html)"
   ]
  },
  {
   "cell_type": "code",
   "execution_count": null,
   "metadata": {
    "collapsed": true
   },
   "outputs": [],
   "source": []
  }
 ],
 "metadata": {
  "kernelspec": {
   "display_name": "Python 2",
   "language": "python",
   "name": "python2"
  },
  "language_info": {
   "codemirror_mode": {
    "name": "ipython",
    "version": 2
   },
   "file_extension": ".py",
   "mimetype": "text/x-python",
   "name": "python",
   "nbconvert_exporter": "python",
   "pygments_lexer": "ipython2",
   "version": "2.7.12"
  }
 },
 "nbformat": 4,
 "nbformat_minor": 2
}
